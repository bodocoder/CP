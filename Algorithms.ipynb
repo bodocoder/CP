{
  "nbformat": 4,
  "nbformat_minor": 0,
  "metadata": {
    "colab": {
      "name": "Algorithms.ipynb",
      "provenance": []
    },
    "kernelspec": {
      "name": "python3",
      "display_name": "Python 3"
    }
  },
  "cells": [
    {
      "cell_type": "markdown",
      "metadata": {
        "id": "GjHYG_baHeN4",
        "colab_type": "text"
      },
      "source": [
        "**Fenwick Tree or Binary Indexed Tree**\n",
        "\n",
        "to get next Index for update:\n",
        "Index=Index+(Index&(-Index))\n",
        "10---->1010\n",
        "-10--->0110\n",
        "10&-10=0010\n",
        "10+10&-10=1100\n",
        "12+12&-12=10000\n",
        "16+16&-16=100000\n",
        "\n",
        "to get Parent Index for getsum:\n",
        "Index=Index-(Index&(-Index))\n"
      ]
    },
    {
      "cell_type": "code",
      "metadata": {
        "id": "baA-vgH_LSov",
        "colab_type": "code",
        "colab": {}
      },
      "source": [
        "class Bit:\n",
        "  def __init__(self,n):\n",
        "    self.N=n+1\n",
        "    self.ft=[0]*(n+1)\n",
        "  def update(self,index,diff):\n",
        "    index+=1\n",
        "    while index<=self.N:\n",
        "      self.bit[index]+=diff\n",
        "      index+=index&(-index)\n",
        "  def getsum(self,index):\n",
        "    index+=1\n",
        "    sum=0\n",
        "    while index>0:\n",
        "      sum+=self.bit[index]\n",
        "      index-=index&(-index)\n",
        "    return sum\n",
        "\n"
      ],
      "execution_count": null,
      "outputs": []
    },
    {
      "cell_type": "markdown",
      "metadata": {
        "id": "3mixGH8AQmZ-",
        "colab_type": "text"
      },
      "source": [
        "**Euler** **Tour**\n",
        "ET=[]\n",
        "ST=[]\n",
        "ET=[]\n",
        "\n",
        "\n"
      ]
    },
    {
      "cell_type": "markdown",
      "metadata": {
        "id": "jO71y65MlQGQ",
        "colab_type": "text"
      },
      "source": [
        "**Bit Magic**\n",
        "---\n",
        "*   **Count Set Bits**"
      ]
    },
    {
      "cell_type": "code",
      "metadata": {
        "id": "5ARJfz2Vm37i",
        "colab_type": "code",
        "colab": {
          "base_uri": "https://localhost:8080/",
          "height": 34
        },
        "outputId": "fb25ed91-612c-4c94-9e31-6b7820cce3d2"
      },
      "source": [
        "#method 1: go through all bits and check if bit is set or not\n",
        "n=5\n",
        "ans=0\n",
        "while n>0:\n",
        "  ans+=n&1\n",
        "  n>>=1\n",
        "print(ans)"
      ],
      "execution_count": 1,
      "outputs": [
        {
          "output_type": "stream",
          "text": [
            "2\n"
          ],
          "name": "stdout"
        }
      ]
    },
    {
      "cell_type": "code",
      "metadata": {
        "id": "ortm9av1nRW_",
        "colab_type": "code",
        "colab": {
          "base_uri": "https://localhost:8080/",
          "height": 34
        },
        "outputId": "e82e9a90-67a4-4928-b41a-b1696e3cf770"
      },
      "source": [
        "#method 2: go through only set bits\n",
        "n=5\n",
        "ans=0\n",
        "while n>0:\n",
        "  ans+=1\n",
        "  n&=n-1\n",
        "print(ans)"
      ],
      "execution_count": 2,
      "outputs": [
        {
          "output_type": "stream",
          "text": [
            "2\n"
          ],
          "name": "stdout"
        }
      ]
    },
    {
      "cell_type": "code",
      "metadata": {
        "id": "2ukKDa-xnhmr",
        "colab_type": "code",
        "colab": {
          "base_uri": "https://localhost:8080/",
          "height": 34
        },
        "outputId": "6c48a131-17bb-4f48-d131-cbe3e2151225"
      },
      "source": [
        "#method 3: precompute number of bits for a nibble\n",
        "t=[0,1]\n",
        "for i in range(2,17):\n",
        "  t.append(t[i//2]+i%2)\n",
        "n=6\n",
        "ans=0\n",
        "ans+=t[n&0x0f]\n",
        "n>>=4\n",
        "ans+=t[n&0x0f]\n",
        "print(ans)"
      ],
      "execution_count": 4,
      "outputs": [
        {
          "output_type": "stream",
          "text": [
            "2\n"
          ],
          "name": "stdout"
        }
      ]
    },
    {
      "cell_type": "markdown",
      "metadata": {
        "id": "ypY_FgqWOI5F",
        "colab_type": "text"
      },
      "source": [
        "**nCr%p** for n upto 10^7"
      ]
    },
    {
      "cell_type": "code",
      "metadata": {
        "id": "Q3jh1UP8OWlk",
        "colab_type": "code",
        "colab": {
          "base_uri": "https://localhost:8080/",
          "height": 34
        },
        "outputId": "4def1a23-5967-4332-e918-714cb2ccb939"
      },
      "source": [
        "n=10 #10000000\n",
        "fac=[0]*n\n",
        "ifac=[0]*n\n",
        "inv=[0]*n\n",
        "p=1000000007\n",
        "def pre():\n",
        "  fac[0],fac[1],ifac[0],ifac[1],inv[0],inv[1]=1,1,1,1,1,1\n",
        "  for i in range(2,n):\n",
        "    fac[i]=(i*fac[i-1])%p\n",
        "    inv[i] = (((-(p // i) * inv[p % i]) % p) + p) % p\n",
        "    ifac[i] = (ifac[i - 1] * inv[i]) % p\n",
        "\n",
        "def ncr(n,k):\n",
        "  if(k>n or k<0 or n<0):\n",
        "    return 0\n",
        "  return (((fac[n]*ifac[n-k])%p)*ifac[k])%p\n",
        "pre()\n",
        "print(ncr(5,1))"
      ],
      "execution_count": 9,
      "outputs": [
        {
          "output_type": "stream",
          "text": [
            "5\n"
          ],
          "name": "stdout"
        }
      ]
    },
    {
      "cell_type": "markdown",
      "metadata": {
        "id": "wxxloKK5TWiA",
        "colab_type": "text"
      },
      "source": [
        "**Power(a,b)%p**"
      ]
    },
    {
      "cell_type": "code",
      "metadata": {
        "id": "YPJuvURdTbKM",
        "colab_type": "code",
        "colab": {
          "base_uri": "https://localhost:8080/",
          "height": 34
        },
        "outputId": "47ae9ccc-b2fb-4421-f569-6901bb51b9a7"
      },
      "source": [
        "p=1000000007\n",
        "def pow(a,b):\n",
        "  res=1\n",
        "  while b:\n",
        "    if b&1:\n",
        "      res=(res*a)%p\n",
        "    a=(a*a)%p\n",
        "    b>>=1\n",
        "  return res\n",
        "pow(2,0)"
      ],
      "execution_count": 13,
      "outputs": [
        {
          "output_type": "execute_result",
          "data": {
            "text/plain": [
              "1"
            ]
          },
          "metadata": {
            "tags": []
          },
          "execution_count": 13
        }
      ]
    },
    {
      "cell_type": "markdown",
      "metadata": {
        "id": "q9AhSicFXh8i",
        "colab_type": "text"
      },
      "source": [
        "**Prime Factorization of a number in O(logn)** precomputation required"
      ]
    },
    {
      "cell_type": "code",
      "metadata": {
        "id": "mou2vgfFXvhr",
        "colab_type": "code",
        "colab": {
          "base_uri": "https://localhost:8080/",
          "height": 34
        },
        "outputId": "f6e1e1ae-aecd-4e33-e638-48b56f20037b"
      },
      "source": [
        "n=100000\n",
        "lp=[0 for i in range(n)]\n",
        "pr=[]\n",
        "def sieve():\n",
        "  for i in range(2,n):\n",
        "    if lp[i]==0:\n",
        "      lp[i]=i\n",
        "      pr.append(i)\n",
        "    j=0\n",
        "    while j < len(pr) and pr [ j ] <= lp [ i ] and i * pr [ j ] < n:\n",
        "      lp[i*pr[j]]=pr[j]\n",
        "      j+=1\n",
        "def pfac(n):\n",
        "  if n<2:\n",
        "    return []\n",
        "  ans=[]\n",
        "  x=lp[n]\n",
        "  while n>1:\n",
        "    ans.append(x)\n",
        "    n=n//x\n",
        "    x=lp[n]\n",
        "  return ans\n",
        "sieve()\n",
        "pfac(100)"
      ],
      "execution_count": 15,
      "outputs": [
        {
          "output_type": "execute_result",
          "data": {
            "text/plain": [
              "[2, 2, 5, 5]"
            ]
          },
          "metadata": {
            "tags": []
          },
          "execution_count": 15
        }
      ]
    }
  ]
}